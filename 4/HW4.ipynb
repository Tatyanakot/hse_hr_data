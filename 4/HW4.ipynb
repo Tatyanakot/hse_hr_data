{
 "cells": [
  {
   "cell_type": "code",
   "execution_count": 1,
   "id": "ad25c890",
   "metadata": {},
   "outputs": [],
   "source": [
    "import sqlite3\n",
    "import pandas as pd"
   ]
  },
  {
   "cell_type": "code",
   "execution_count": 2,
   "id": "4a39344d",
   "metadata": {},
   "outputs": [],
   "source": [
    "con = sqlite3.connect('DBname.db')"
   ]
  },
  {
   "cell_type": "code",
   "execution_count": null,
   "id": "d48ef3f9",
   "metadata": {},
   "outputs": [],
   "source": []
  }
 ],
 "metadata": {
  "kernelspec": {
   "display_name": "Python 3",
   "language": "python",
   "name": "python3"
  },
  "language_info": {
   "codemirror_mode": {
    "name": "ipython",
    "version": 3
   },
   "file_extension": ".py",
   "mimetype": "text/x-python",
   "name": "python",
   "nbconvert_exporter": "python",
   "pygments_lexer": "ipython3",
   "version": "3.8.8"
  }
 },
 "nbformat": 4,
 "nbformat_minor": 5
}
